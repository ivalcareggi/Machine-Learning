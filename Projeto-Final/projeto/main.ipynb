{
 "cells": [
  {
   "cell_type": "code",
   "execution_count": 13,
   "id": "e7da3f6d",
   "metadata": {},
   "outputs": [],
   "source": [
    "import pandas as pd\n",
    "import os"
   ]
  },
  {
   "cell_type": "code",
   "execution_count": 14,
   "id": "73e78f22",
   "metadata": {},
   "outputs": [],
   "source": [
    "df_2022 = pd.read_csv('../datasets/acidentes2022.csv', encoding='latin1', sep=';')\n",
    "df_2023 = pd.read_csv('../datasets/datatran2023.csv', encoding='latin1', sep=';')\n",
    "df_2024 = pd.read_csv('../datasets/datatran2024.csv', encoding='latin1', sep=';')\n",
    "df_2025 = pd.read_csv('../datasets/datatran2025.csv', encoding='latin1', sep=';')"
   ]
  },
  {
   "cell_type": "code",
   "execution_count": 15,
   "id": "721bea85",
   "metadata": {},
   "outputs": [
    {
     "data": {
      "text/plain": [
       "Index(['ano_fabricacao_veiculo', 'estado_fisico', 'id_veiculo', 'idade',\n",
       "       'marca', 'pesid', 'sexo', 'tipo_envolvido', 'tipo_veiculo'],\n",
       "      dtype='object')"
      ]
     },
     "execution_count": 15,
     "metadata": {},
     "output_type": "execute_result"
    }
   ],
   "source": [
    "df_2022.columns.difference(df_2023.columns)"
   ]
  },
  {
   "cell_type": "code",
   "execution_count": 16,
   "id": "725f389d",
   "metadata": {},
   "outputs": [
    {
     "data": {
      "text/plain": [
       "Index(['feridos', 'ignorados', 'pessoas', 'veiculos'], dtype='object')"
      ]
     },
     "execution_count": 16,
     "metadata": {},
     "output_type": "execute_result"
    }
   ],
   "source": [
    "df_2023.columns.difference(df_2022.columns)"
   ]
  },
  {
   "cell_type": "code",
   "execution_count": 17,
   "id": "d118ab7a",
   "metadata": {},
   "outputs": [
    {
     "data": {
      "text/plain": [
       "Index(['id', 'data_inversa', 'dia_semana', 'horario', 'uf', 'br', 'km',\n",
       "       'municipio', 'causa_acidente', 'tipo_acidente',\n",
       "       'classificacao_acidente', 'fase_dia', 'sentido_via',\n",
       "       'condicao_metereologica', 'tipo_pista', 'tracado_via', 'uso_solo',\n",
       "       'pessoas', 'mortos', 'feridos_leves', 'feridos_graves', 'ilesos',\n",
       "       'ignorados', 'feridos', 'veiculos', 'latitude', 'longitude', 'regional',\n",
       "       'delegacia', 'uop'],\n",
       "      dtype='object')"
      ]
     },
     "execution_count": 17,
     "metadata": {},
     "output_type": "execute_result"
    }
   ],
   "source": [
    "df_2023.columns"
   ]
  },
  {
   "cell_type": "markdown",
   "id": "c5099453",
   "metadata": {},
   "source": [
    "Como podemos ver, há algumas colunas que o dataframe de 2022 têm que os de 2023 adiante não têm. Porém, muitas informações são dados que seriam de saída, que não estamos interessados em predizer."
   ]
  },
  {
   "cell_type": "code",
   "execution_count": 18,
   "id": "099e0569",
   "metadata": {},
   "outputs": [],
   "source": [
    "df_2022 = df_2022.drop(['ano_fabricacao_veiculo', 'estado_fisico', 'id_veiculo', 'idade',\n",
    "              'marca', 'pesid', 'sexo', 'tipo_envolvido', 'tipo_veiculo', 'causa_acidente',\n",
    "              'classificacao_acidente', 'fase_dia', 'sentido_via', 'tipo_pista',\n",
    "              'tracado_via', 'uso_solo', 'regional', 'delegacia', 'uop'],\n",
    "              axis=1)\n",
    "df_2023 = df_2023.drop(['feridos', 'ignorados', 'pessoas', 'veiculos', 'causa_acidente', 'classificacao_acidente',\n",
    "              'fase_dia', 'sentido_via', 'tipo_pista', 'tracado_via', 'uso_solo', 'regional', 'delegacia', 'uop'],\n",
    "              axis=1)\n",
    "df_2024 = df_2024.drop(['feridos', 'ignorados', 'pessoas', 'veiculos', 'causa_acidente', 'classificacao_acidente',\n",
    "              'fase_dia', 'sentido_via', 'tipo_pista', 'tracado_via', 'uso_solo', 'regional', 'delegacia', 'uop'],\n",
    "              axis=1)\n",
    "df_2025 = df_2025.drop(['feridos', 'ignorados', 'pessoas', 'veiculos', 'causa_acidente', 'classificacao_acidente',\n",
    "              'fase_dia', 'sentido_via', 'tipo_pista', 'tracado_via', 'uso_solo', 'regional', 'delegacia', 'uop'],\n",
    "              axis=1)"
   ]
  },
  {
   "cell_type": "code",
   "execution_count": 22,
   "id": "353a4688",
   "metadata": {},
   "outputs": [
    {
     "data": {
      "text/plain": [
       "Index(['id', 'data_inversa', 'dia_semana', 'horario', 'uf', 'br', 'km',\n",
       "       'municipio', 'tipo_acidente', 'condicao_metereologica', 'ilesos',\n",
       "       'feridos_leves', 'feridos_graves', 'mortos', 'latitude', 'longitude'],\n",
       "      dtype='object')"
      ]
     },
     "execution_count": 22,
     "metadata": {},
     "output_type": "execute_result"
    }
   ],
   "source": [
    "df = pd.concat([df_2022, df_2023, df_2024, df_2025])\n",
    "df.columns"
   ]
  }
 ],
 "metadata": {
  "kernelspec": {
   "display_name": "Python 3",
   "language": "python",
   "name": "python3"
  },
  "language_info": {
   "codemirror_mode": {
    "name": "ipython",
    "version": 3
   },
   "file_extension": ".py",
   "mimetype": "text/x-python",
   "name": "python",
   "nbconvert_exporter": "python",
   "pygments_lexer": "ipython3",
   "version": "3.12.4"
  }
 },
 "nbformat": 4,
 "nbformat_minor": 5
}
