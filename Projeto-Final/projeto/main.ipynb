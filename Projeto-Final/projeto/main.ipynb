{
 "cells": [
  {
   "cell_type": "code",
   "execution_count": 10,
   "id": "e7da3f6d",
   "metadata": {},
   "outputs": [],
   "source": [
    "import pandas as pd\n",
    "import os"
   ]
  },
  {
   "cell_type": "code",
   "execution_count": 12,
   "id": "73e78f22",
   "metadata": {},
   "outputs": [],
   "source": [
    "df_2022 = pd.read_csv('../datasets/acidentes2022.csv', encoding='latin1', sep=';')\n",
    "df_2023 = pd.read_csv('../datasets/datatran2023.csv', encoding='latin1', sep=';')\n",
    "df_2024 = pd.read_csv('../datasets/datatran2024.csv', encoding='latin1', sep=';')\n",
    "df_2025 = pd.read_csv('../datasets/datatran2025.csv', encoding='latin1', sep=';')"
   ]
  },
  {
   "cell_type": "code",
   "execution_count": 13,
   "id": "721bea85",
   "metadata": {},
   "outputs": [
    {
     "data": {
      "text/plain": [
       "Index(['ano_fabricacao_veiculo', 'estado_fisico', 'id_veiculo', 'idade',\n",
       "       'marca', 'pesid', 'sexo', 'tipo_envolvido', 'tipo_veiculo'],\n",
       "      dtype='object')"
      ]
     },
     "execution_count": 13,
     "metadata": {},
     "output_type": "execute_result"
    }
   ],
   "source": [
    "df_2022.columns.difference(df_2023.columns)"
   ]
  },
  {
   "cell_type": "code",
   "execution_count": 14,
   "id": "725f389d",
   "metadata": {},
   "outputs": [
    {
     "data": {
      "text/plain": [
       "Index(['feridos', 'ignorados', 'pessoas', 'veiculos'], dtype='object')"
      ]
     },
     "execution_count": 14,
     "metadata": {},
     "output_type": "execute_result"
    }
   ],
   "source": [
    "df_2023.columns.difference(df_2022.columns)"
   ]
  },
  {
   "cell_type": "markdown",
   "id": "5ee88fe5",
   "metadata": {},
   "source": [
    "Queremos unir todos os datasets, porém vemos acima que o dataset de 2022 tem alguns conflitos com os demais"
   ]
  }
 ],
 "metadata": {
  "kernelspec": {
   "display_name": "dados",
   "language": "python",
   "name": "python3"
  },
  "language_info": {
   "codemirror_mode": {
    "name": "ipython",
    "version": 3
   },
   "file_extension": ".py",
   "mimetype": "text/x-python",
   "name": "python",
   "nbconvert_exporter": "python",
   "pygments_lexer": "ipython3",
   "version": "3.13.2"
  }
 },
 "nbformat": 4,
 "nbformat_minor": 5
}
